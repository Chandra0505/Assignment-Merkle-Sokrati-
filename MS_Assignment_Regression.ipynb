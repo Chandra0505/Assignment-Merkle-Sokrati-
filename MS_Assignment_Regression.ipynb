{
  "nbformat": 4,
  "nbformat_minor": 0,
  "metadata": {
    "colab": {
      "name": "MS Assignment_Regression.ipynb",
      "provenance": []
    },
    "kernelspec": {
      "name": "python3",
      "display_name": "Python 3"
    }
  },
  "cells": [
    {
      "cell_type": "code",
      "metadata": {
        "id": "RNPXrOCaIh1P",
        "colab_type": "code",
        "colab": {
          "base_uri": "https://localhost:8080/",
          "height": 122
        },
        "outputId": "7402af76-311a-4973-88c0-30c2f3ffb4bb"
      },
      "source": [
        "from google.colab import drive\n",
        "drive.mount('/content/drive')"
      ],
      "execution_count": 1,
      "outputs": [
        {
          "output_type": "stream",
          "text": [
            "Go to this URL in a browser: https://accounts.google.com/o/oauth2/auth?client_id=947318989803-6bn6qk8qdgf4n4g3pfee6491hc0brc4i.apps.googleusercontent.com&redirect_uri=urn%3aietf%3awg%3aoauth%3a2.0%3aoob&scope=email%20https%3a%2f%2fwww.googleapis.com%2fauth%2fdocs.test%20https%3a%2f%2fwww.googleapis.com%2fauth%2fdrive%20https%3a%2f%2fwww.googleapis.com%2fauth%2fdrive.photos.readonly%20https%3a%2f%2fwww.googleapis.com%2fauth%2fpeopleapi.readonly&response_type=code\n",
            "\n",
            "Enter your authorization code:\n",
            "··········\n",
            "Mounted at /content/drive\n"
          ],
          "name": "stdout"
        }
      ]
    },
    {
      "cell_type": "code",
      "metadata": {
        "id": "00Oniq19IiC1",
        "colab_type": "code",
        "colab": {}
      },
      "source": [
        "import pandas as pd\n",
        "import numpy as np\n",
        "import copy\n",
        "%matplotlib inline"
      ],
      "execution_count": 2,
      "outputs": []
    },
    {
      "cell_type": "code",
      "metadata": {
        "id": "_xLYK96tIiNE",
        "colab_type": "code",
        "colab": {}
      },
      "source": [
        "df = pd.read_excel('/content/drive/My Drive/Colab Notebooks/Merkle Sokrati Assignment/Data Clean 1.xlsx')"
      ],
      "execution_count": 3,
      "outputs": []
    },
    {
      "cell_type": "code",
      "metadata": {
        "id": "hSzQDDkrIiT8",
        "colab_type": "code",
        "colab": {
          "base_uri": "https://localhost:8080/",
          "height": 165
        },
        "outputId": "e8edbf14-5779-491f-fea2-cff4dfea071b"
      },
      "source": [
        "df.head(2)"
      ],
      "execution_count": 4,
      "outputs": [
        {
          "output_type": "execute_result",
          "data": {
            "text/html": [
              "<div>\n",
              "<style scoped>\n",
              "    .dataframe tbody tr th:only-of-type {\n",
              "        vertical-align: middle;\n",
              "    }\n",
              "\n",
              "    .dataframe tbody tr th {\n",
              "        vertical-align: top;\n",
              "    }\n",
              "\n",
              "    .dataframe thead th {\n",
              "        text-align: right;\n",
              "    }\n",
              "</style>\n",
              "<table border=\"1\" class=\"dataframe\">\n",
              "  <thead>\n",
              "    <tr style=\"text-align: right;\">\n",
              "      <th></th>\n",
              "      <th>Date</th>\n",
              "      <th>product</th>\n",
              "      <th>phase</th>\n",
              "      <th>campaign_platform</th>\n",
              "      <th>campaign_type</th>\n",
              "      <th>communication_medium</th>\n",
              "      <th>subchannel</th>\n",
              "      <th>audience_type</th>\n",
              "      <th>creative_type</th>\n",
              "      <th>creative_name</th>\n",
              "      <th>device</th>\n",
              "      <th>age</th>\n",
              "      <th>spends</th>\n",
              "      <th>impressions</th>\n",
              "      <th>clicks</th>\n",
              "      <th>link_clicks</th>\n",
              "    </tr>\n",
              "  </thead>\n",
              "  <tbody>\n",
              "    <tr>\n",
              "      <th>0</th>\n",
              "      <td>2019-10-16</td>\n",
              "      <td>Product 1</td>\n",
              "      <td>Performance</td>\n",
              "      <td>Google Ads</td>\n",
              "      <td>Search</td>\n",
              "      <td>Search Keywords</td>\n",
              "      <td>Brand</td>\n",
              "      <td>'-</td>\n",
              "      <td>'-</td>\n",
              "      <td>'-</td>\n",
              "      <td>Desktop</td>\n",
              "      <td>18-24</td>\n",
              "      <td>0.0</td>\n",
              "      <td>0</td>\n",
              "      <td>0</td>\n",
              "      <td>0</td>\n",
              "    </tr>\n",
              "    <tr>\n",
              "      <th>1</th>\n",
              "      <td>2019-10-16</td>\n",
              "      <td>Product 1</td>\n",
              "      <td>Performance</td>\n",
              "      <td>Google Ads</td>\n",
              "      <td>Search</td>\n",
              "      <td>Search Keywords</td>\n",
              "      <td>Brand</td>\n",
              "      <td>'-</td>\n",
              "      <td>'-</td>\n",
              "      <td>'-</td>\n",
              "      <td>Desktop</td>\n",
              "      <td>25-34</td>\n",
              "      <td>0.0</td>\n",
              "      <td>5</td>\n",
              "      <td>0</td>\n",
              "      <td>0</td>\n",
              "    </tr>\n",
              "  </tbody>\n",
              "</table>\n",
              "</div>"
            ],
            "text/plain": [
              "        Date    product        phase  ... impressions clicks link_clicks\n",
              "0 2019-10-16  Product 1  Performance  ...           0      0           0\n",
              "1 2019-10-16  Product 1  Performance  ...           5      0           0\n",
              "\n",
              "[2 rows x 16 columns]"
            ]
          },
          "metadata": {
            "tags": []
          },
          "execution_count": 4
        }
      ]
    },
    {
      "cell_type": "code",
      "metadata": {
        "id": "x8gIlkajIiYU",
        "colab_type": "code",
        "colab": {}
      },
      "source": [
        "print(df.info())"
      ],
      "execution_count": null,
      "outputs": []
    },
    {
      "cell_type": "code",
      "metadata": {
        "id": "cY5h00vuVWBC",
        "colab_type": "code",
        "colab": {}
      },
      "source": [
        "# df.describe"
      ],
      "execution_count": null,
      "outputs": []
    },
    {
      "cell_type": "code",
      "metadata": {
        "id": "R8VqOFJtP12J",
        "colab_type": "code",
        "colab": {
          "base_uri": "https://localhost:8080/",
          "height": 71
        },
        "outputId": "6a1d0919-fc0c-46e9-ad32-de76a9c26375"
      },
      "source": [
        "import statsmodels.api as sm\n",
        "from statsmodels.graphics.regressionplots import abline_plot"
      ],
      "execution_count": 6,
      "outputs": [
        {
          "output_type": "stream",
          "text": [
            "/usr/local/lib/python3.6/dist-packages/statsmodels/tools/_testing.py:19: FutureWarning: pandas.util.testing is deprecated. Use the functions in the public API at pandas.testing instead.\n",
            "  import pandas.util.testing as tm\n"
          ],
          "name": "stderr"
        }
      ]
    },
    {
      "cell_type": "code",
      "metadata": {
        "id": "lWjYjzfoIid3",
        "colab_type": "code",
        "colab": {}
      },
      "source": [
        "cat_df = df.select_dtypes(include=['object']).copy()"
      ],
      "execution_count": 7,
      "outputs": []
    },
    {
      "cell_type": "code",
      "metadata": {
        "id": "UbZhefdhIigX",
        "colab_type": "code",
        "colab": {
          "base_uri": "https://localhost:8080/",
          "height": 204
        },
        "outputId": "4b51b172-3a24-4278-c9c5-d47730a914d1"
      },
      "source": [
        "cat_df.head()"
      ],
      "execution_count": 8,
      "outputs": [
        {
          "output_type": "execute_result",
          "data": {
            "text/html": [
              "<div>\n",
              "<style scoped>\n",
              "    .dataframe tbody tr th:only-of-type {\n",
              "        vertical-align: middle;\n",
              "    }\n",
              "\n",
              "    .dataframe tbody tr th {\n",
              "        vertical-align: top;\n",
              "    }\n",
              "\n",
              "    .dataframe thead th {\n",
              "        text-align: right;\n",
              "    }\n",
              "</style>\n",
              "<table border=\"1\" class=\"dataframe\">\n",
              "  <thead>\n",
              "    <tr style=\"text-align: right;\">\n",
              "      <th></th>\n",
              "      <th>product</th>\n",
              "      <th>phase</th>\n",
              "      <th>campaign_platform</th>\n",
              "      <th>campaign_type</th>\n",
              "      <th>communication_medium</th>\n",
              "      <th>subchannel</th>\n",
              "      <th>audience_type</th>\n",
              "      <th>creative_type</th>\n",
              "      <th>creative_name</th>\n",
              "      <th>device</th>\n",
              "      <th>age</th>\n",
              "    </tr>\n",
              "  </thead>\n",
              "  <tbody>\n",
              "    <tr>\n",
              "      <th>0</th>\n",
              "      <td>Product 1</td>\n",
              "      <td>Performance</td>\n",
              "      <td>Google Ads</td>\n",
              "      <td>Search</td>\n",
              "      <td>Search Keywords</td>\n",
              "      <td>Brand</td>\n",
              "      <td>'-</td>\n",
              "      <td>'-</td>\n",
              "      <td>'-</td>\n",
              "      <td>Desktop</td>\n",
              "      <td>18-24</td>\n",
              "    </tr>\n",
              "    <tr>\n",
              "      <th>1</th>\n",
              "      <td>Product 1</td>\n",
              "      <td>Performance</td>\n",
              "      <td>Google Ads</td>\n",
              "      <td>Search</td>\n",
              "      <td>Search Keywords</td>\n",
              "      <td>Brand</td>\n",
              "      <td>'-</td>\n",
              "      <td>'-</td>\n",
              "      <td>'-</td>\n",
              "      <td>Desktop</td>\n",
              "      <td>25-34</td>\n",
              "    </tr>\n",
              "    <tr>\n",
              "      <th>2</th>\n",
              "      <td>Product 1</td>\n",
              "      <td>Performance</td>\n",
              "      <td>Google Ads</td>\n",
              "      <td>Search</td>\n",
              "      <td>Search Keywords</td>\n",
              "      <td>Brand</td>\n",
              "      <td>'-</td>\n",
              "      <td>'-</td>\n",
              "      <td>'-</td>\n",
              "      <td>Desktop</td>\n",
              "      <td>35-44</td>\n",
              "    </tr>\n",
              "    <tr>\n",
              "      <th>3</th>\n",
              "      <td>Product 1</td>\n",
              "      <td>Performance</td>\n",
              "      <td>Google Ads</td>\n",
              "      <td>Search</td>\n",
              "      <td>Search Keywords</td>\n",
              "      <td>Brand</td>\n",
              "      <td>'-</td>\n",
              "      <td>'-</td>\n",
              "      <td>'-</td>\n",
              "      <td>Desktop</td>\n",
              "      <td>Undetermined</td>\n",
              "    </tr>\n",
              "    <tr>\n",
              "      <th>4</th>\n",
              "      <td>Product 1</td>\n",
              "      <td>Performance</td>\n",
              "      <td>Google Ads</td>\n",
              "      <td>Search</td>\n",
              "      <td>Search Keywords</td>\n",
              "      <td>Brand</td>\n",
              "      <td>'-</td>\n",
              "      <td>'-</td>\n",
              "      <td>'-</td>\n",
              "      <td>Desktop</td>\n",
              "      <td>18-24</td>\n",
              "    </tr>\n",
              "  </tbody>\n",
              "</table>\n",
              "</div>"
            ],
            "text/plain": [
              "     product        phase  ...   device           age\n",
              "0  Product 1  Performance  ...  Desktop         18-24\n",
              "1  Product 1  Performance  ...  Desktop         25-34\n",
              "2  Product 1  Performance  ...  Desktop         35-44\n",
              "3  Product 1  Performance  ...  Desktop  Undetermined\n",
              "4  Product 1  Performance  ...  Desktop         18-24\n",
              "\n",
              "[5 rows x 11 columns]"
            ]
          },
          "metadata": {
            "tags": []
          },
          "execution_count": 8
        }
      ]
    },
    {
      "cell_type": "code",
      "metadata": {
        "id": "pRovplioIilH",
        "colab_type": "code",
        "colab": {
          "base_uri": "https://localhost:8080/",
          "height": 34
        },
        "outputId": "293f5932-4e86-4411-d724-6f7b18a84b25"
      },
      "source": [
        "print(cat_df.isnull().values.sum())"
      ],
      "execution_count": 9,
      "outputs": [
        {
          "output_type": "stream",
          "text": [
            "0\n"
          ],
          "name": "stdout"
        }
      ]
    },
    {
      "cell_type": "code",
      "metadata": {
        "id": "p0NylpyiehqR",
        "colab_type": "code",
        "colab": {
          "base_uri": "https://localhost:8080/",
          "height": 153
        },
        "outputId": "749933c7-cc2e-4087-ab3f-dea8d4c49ddd"
      },
      "source": [
        "cat_df_onehot = cat_df.copy()\n",
        "cat_df_onehot = pd.get_dummies(cat_df_onehot, columns=['campaign_platform'], prefix = ['campaign_platform'])\n",
        "cat_df_onehot = pd.get_dummies(cat_df_onehot, columns=['campaign_type'], prefix = ['campaign_type'])\n",
        "cat_df_onehot = pd.get_dummies(cat_df_onehot, columns=['communication_medium'], prefix = ['communication_medium'])\n",
        "cat_df_onehot = pd.get_dummies(cat_df_onehot, columns=['subchannel'], prefix = ['subchannel'])\n",
        "cat_df_onehot = pd.get_dummies(cat_df_onehot, columns=['audience_type'], prefix = ['audience_type'])\n",
        "cat_df_onehot = pd.get_dummies(cat_df_onehot, columns=['creative_type'], prefix = ['creative_type'])\n",
        "cat_df_onehot = pd.get_dummies(cat_df_onehot, columns=['creative_name'], prefix = ['creative_name'])\n",
        "cat_df_onehot = pd.get_dummies(cat_df_onehot, columns=['device'], prefix = ['device'])\n",
        "cat_df_onehot = pd.get_dummies(cat_df_onehot, columns=['age'], prefix = ['age'])\n",
        "\n",
        "print(cat_df_onehot.head())"
      ],
      "execution_count": 10,
      "outputs": [
        {
          "output_type": "stream",
          "text": [
            "     product        phase  ...  age_65 or more  age_Undetermined\n",
            "0  Product 1  Performance  ...               0                 0\n",
            "1  Product 1  Performance  ...               0                 0\n",
            "2  Product 1  Performance  ...               0                 0\n",
            "3  Product 1  Performance  ...               0                 1\n",
            "4  Product 1  Performance  ...               0                 0\n",
            "\n",
            "[5 rows x 34 columns]\n"
          ],
          "name": "stdout"
        }
      ]
    },
    {
      "cell_type": "code",
      "metadata": {
        "id": "vLgCpVziiw1m",
        "colab_type": "code",
        "colab": {
          "base_uri": "https://localhost:8080/",
          "height": 204
        },
        "outputId": "bec7112d-1c15-4dd0-e9b6-b5ae5da5bf6f"
      },
      "source": [
        "conti_df = df.select_dtypes(include=['float64', 'int64']).copy()\n",
        "conti_df.head()"
      ],
      "execution_count": 11,
      "outputs": [
        {
          "output_type": "execute_result",
          "data": {
            "text/html": [
              "<div>\n",
              "<style scoped>\n",
              "    .dataframe tbody tr th:only-of-type {\n",
              "        vertical-align: middle;\n",
              "    }\n",
              "\n",
              "    .dataframe tbody tr th {\n",
              "        vertical-align: top;\n",
              "    }\n",
              "\n",
              "    .dataframe thead th {\n",
              "        text-align: right;\n",
              "    }\n",
              "</style>\n",
              "<table border=\"1\" class=\"dataframe\">\n",
              "  <thead>\n",
              "    <tr style=\"text-align: right;\">\n",
              "      <th></th>\n",
              "      <th>spends</th>\n",
              "      <th>impressions</th>\n",
              "      <th>clicks</th>\n",
              "      <th>link_clicks</th>\n",
              "    </tr>\n",
              "  </thead>\n",
              "  <tbody>\n",
              "    <tr>\n",
              "      <th>0</th>\n",
              "      <td>0.00</td>\n",
              "      <td>0</td>\n",
              "      <td>0</td>\n",
              "      <td>0</td>\n",
              "    </tr>\n",
              "    <tr>\n",
              "      <th>1</th>\n",
              "      <td>0.00</td>\n",
              "      <td>5</td>\n",
              "      <td>0</td>\n",
              "      <td>0</td>\n",
              "    </tr>\n",
              "    <tr>\n",
              "      <th>2</th>\n",
              "      <td>0.00</td>\n",
              "      <td>1</td>\n",
              "      <td>0</td>\n",
              "      <td>0</td>\n",
              "    </tr>\n",
              "    <tr>\n",
              "      <th>3</th>\n",
              "      <td>14.63</td>\n",
              "      <td>5</td>\n",
              "      <td>3</td>\n",
              "      <td>0</td>\n",
              "    </tr>\n",
              "    <tr>\n",
              "      <th>4</th>\n",
              "      <td>53.31</td>\n",
              "      <td>10</td>\n",
              "      <td>2</td>\n",
              "      <td>0</td>\n",
              "    </tr>\n",
              "  </tbody>\n",
              "</table>\n",
              "</div>"
            ],
            "text/plain": [
              "   spends  impressions  clicks  link_clicks\n",
              "0    0.00            0       0            0\n",
              "1    0.00            5       0            0\n",
              "2    0.00            1       0            0\n",
              "3   14.63            5       3            0\n",
              "4   53.31           10       2            0"
            ]
          },
          "metadata": {
            "tags": []
          },
          "execution_count": 11
        }
      ]
    },
    {
      "cell_type": "code",
      "metadata": {
        "id": "d37TXibQehuH",
        "colab_type": "code",
        "colab": {
          "base_uri": "https://localhost:8080/",
          "height": 153
        },
        "outputId": "0e7d745a-4804-412d-e926-a761b643c591"
      },
      "source": [
        "result_df = pd.concat([cat_df_onehot, conti_df], axis=1)\n",
        "\n",
        "print(result_df.head())"
      ],
      "execution_count": 12,
      "outputs": [
        {
          "output_type": "stream",
          "text": [
            "     product        phase  ...  clicks  link_clicks\n",
            "0  Product 1  Performance  ...       0            0\n",
            "1  Product 1  Performance  ...       0            0\n",
            "2  Product 1  Performance  ...       0            0\n",
            "3  Product 1  Performance  ...       3            0\n",
            "4  Product 1  Performance  ...       2            0\n",
            "\n",
            "[5 rows x 38 columns]\n"
          ],
          "name": "stdout"
        }
      ]
    },
    {
      "cell_type": "code",
      "metadata": {
        "id": "8LRnllljehyo",
        "colab_type": "code",
        "colab": {
          "base_uri": "https://localhost:8080/",
          "height": 258
        },
        "outputId": "c143668e-5624-4c4e-deb2-f5664307d5ee"
      },
      "source": [
        "# Dropping irrelevant columns\n",
        "result_df = result_df.drop(['product', 'phase'], axis=1)\n",
        "result_df.head(5)"
      ],
      "execution_count": 13,
      "outputs": [
        {
          "output_type": "execute_result",
          "data": {
            "text/html": [
              "<div>\n",
              "<style scoped>\n",
              "    .dataframe tbody tr th:only-of-type {\n",
              "        vertical-align: middle;\n",
              "    }\n",
              "\n",
              "    .dataframe tbody tr th {\n",
              "        vertical-align: top;\n",
              "    }\n",
              "\n",
              "    .dataframe thead th {\n",
              "        text-align: right;\n",
              "    }\n",
              "</style>\n",
              "<table border=\"1\" class=\"dataframe\">\n",
              "  <thead>\n",
              "    <tr style=\"text-align: right;\">\n",
              "      <th></th>\n",
              "      <th>campaign_platform_Facebook Ads</th>\n",
              "      <th>campaign_platform_Google Ads</th>\n",
              "      <th>campaign_type_Conversions</th>\n",
              "      <th>campaign_type_Search</th>\n",
              "      <th>communication_medium_Creative</th>\n",
              "      <th>communication_medium_Search Keywords</th>\n",
              "      <th>subchannel_Brand</th>\n",
              "      <th>subchannel_Competitor</th>\n",
              "      <th>subchannel_Facebook Ads</th>\n",
              "      <th>subchannel_Generic</th>\n",
              "      <th>audience_type_'-</th>\n",
              "      <th>audience_type_Audience 1</th>\n",
              "      <th>audience_type_Audience 2</th>\n",
              "      <th>audience_type_Audience 3</th>\n",
              "      <th>creative_type_'-</th>\n",
              "      <th>creative_type_Carousal</th>\n",
              "      <th>creative_type_Image</th>\n",
              "      <th>creative_name_'-</th>\n",
              "      <th>creative_name_Carousal</th>\n",
              "      <th>creative_name_Click</th>\n",
              "      <th>creative_name_Girl</th>\n",
              "      <th>device_Desktop</th>\n",
              "      <th>device_Mobile</th>\n",
              "      <th>device_Tablet</th>\n",
              "      <th>device_device</th>\n",
              "      <th>age_18-24</th>\n",
              "      <th>age_25-34</th>\n",
              "      <th>age_35-44</th>\n",
              "      <th>age_45-54</th>\n",
              "      <th>age_55-64</th>\n",
              "      <th>age_65 or more</th>\n",
              "      <th>age_Undetermined</th>\n",
              "      <th>spends</th>\n",
              "      <th>impressions</th>\n",
              "      <th>clicks</th>\n",
              "      <th>link_clicks</th>\n",
              "    </tr>\n",
              "  </thead>\n",
              "  <tbody>\n",
              "    <tr>\n",
              "      <th>0</th>\n",
              "      <td>0</td>\n",
              "      <td>1</td>\n",
              "      <td>0</td>\n",
              "      <td>1</td>\n",
              "      <td>0</td>\n",
              "      <td>1</td>\n",
              "      <td>1</td>\n",
              "      <td>0</td>\n",
              "      <td>0</td>\n",
              "      <td>0</td>\n",
              "      <td>1</td>\n",
              "      <td>0</td>\n",
              "      <td>0</td>\n",
              "      <td>0</td>\n",
              "      <td>1</td>\n",
              "      <td>0</td>\n",
              "      <td>0</td>\n",
              "      <td>1</td>\n",
              "      <td>0</td>\n",
              "      <td>0</td>\n",
              "      <td>0</td>\n",
              "      <td>1</td>\n",
              "      <td>0</td>\n",
              "      <td>0</td>\n",
              "      <td>0</td>\n",
              "      <td>1</td>\n",
              "      <td>0</td>\n",
              "      <td>0</td>\n",
              "      <td>0</td>\n",
              "      <td>0</td>\n",
              "      <td>0</td>\n",
              "      <td>0</td>\n",
              "      <td>0.00</td>\n",
              "      <td>0</td>\n",
              "      <td>0</td>\n",
              "      <td>0</td>\n",
              "    </tr>\n",
              "    <tr>\n",
              "      <th>1</th>\n",
              "      <td>0</td>\n",
              "      <td>1</td>\n",
              "      <td>0</td>\n",
              "      <td>1</td>\n",
              "      <td>0</td>\n",
              "      <td>1</td>\n",
              "      <td>1</td>\n",
              "      <td>0</td>\n",
              "      <td>0</td>\n",
              "      <td>0</td>\n",
              "      <td>1</td>\n",
              "      <td>0</td>\n",
              "      <td>0</td>\n",
              "      <td>0</td>\n",
              "      <td>1</td>\n",
              "      <td>0</td>\n",
              "      <td>0</td>\n",
              "      <td>1</td>\n",
              "      <td>0</td>\n",
              "      <td>0</td>\n",
              "      <td>0</td>\n",
              "      <td>1</td>\n",
              "      <td>0</td>\n",
              "      <td>0</td>\n",
              "      <td>0</td>\n",
              "      <td>0</td>\n",
              "      <td>1</td>\n",
              "      <td>0</td>\n",
              "      <td>0</td>\n",
              "      <td>0</td>\n",
              "      <td>0</td>\n",
              "      <td>0</td>\n",
              "      <td>0.00</td>\n",
              "      <td>5</td>\n",
              "      <td>0</td>\n",
              "      <td>0</td>\n",
              "    </tr>\n",
              "    <tr>\n",
              "      <th>2</th>\n",
              "      <td>0</td>\n",
              "      <td>1</td>\n",
              "      <td>0</td>\n",
              "      <td>1</td>\n",
              "      <td>0</td>\n",
              "      <td>1</td>\n",
              "      <td>1</td>\n",
              "      <td>0</td>\n",
              "      <td>0</td>\n",
              "      <td>0</td>\n",
              "      <td>1</td>\n",
              "      <td>0</td>\n",
              "      <td>0</td>\n",
              "      <td>0</td>\n",
              "      <td>1</td>\n",
              "      <td>0</td>\n",
              "      <td>0</td>\n",
              "      <td>1</td>\n",
              "      <td>0</td>\n",
              "      <td>0</td>\n",
              "      <td>0</td>\n",
              "      <td>1</td>\n",
              "      <td>0</td>\n",
              "      <td>0</td>\n",
              "      <td>0</td>\n",
              "      <td>0</td>\n",
              "      <td>0</td>\n",
              "      <td>1</td>\n",
              "      <td>0</td>\n",
              "      <td>0</td>\n",
              "      <td>0</td>\n",
              "      <td>0</td>\n",
              "      <td>0.00</td>\n",
              "      <td>1</td>\n",
              "      <td>0</td>\n",
              "      <td>0</td>\n",
              "    </tr>\n",
              "    <tr>\n",
              "      <th>3</th>\n",
              "      <td>0</td>\n",
              "      <td>1</td>\n",
              "      <td>0</td>\n",
              "      <td>1</td>\n",
              "      <td>0</td>\n",
              "      <td>1</td>\n",
              "      <td>1</td>\n",
              "      <td>0</td>\n",
              "      <td>0</td>\n",
              "      <td>0</td>\n",
              "      <td>1</td>\n",
              "      <td>0</td>\n",
              "      <td>0</td>\n",
              "      <td>0</td>\n",
              "      <td>1</td>\n",
              "      <td>0</td>\n",
              "      <td>0</td>\n",
              "      <td>1</td>\n",
              "      <td>0</td>\n",
              "      <td>0</td>\n",
              "      <td>0</td>\n",
              "      <td>1</td>\n",
              "      <td>0</td>\n",
              "      <td>0</td>\n",
              "      <td>0</td>\n",
              "      <td>0</td>\n",
              "      <td>0</td>\n",
              "      <td>0</td>\n",
              "      <td>0</td>\n",
              "      <td>0</td>\n",
              "      <td>0</td>\n",
              "      <td>1</td>\n",
              "      <td>14.63</td>\n",
              "      <td>5</td>\n",
              "      <td>3</td>\n",
              "      <td>0</td>\n",
              "    </tr>\n",
              "    <tr>\n",
              "      <th>4</th>\n",
              "      <td>0</td>\n",
              "      <td>1</td>\n",
              "      <td>0</td>\n",
              "      <td>1</td>\n",
              "      <td>0</td>\n",
              "      <td>1</td>\n",
              "      <td>1</td>\n",
              "      <td>0</td>\n",
              "      <td>0</td>\n",
              "      <td>0</td>\n",
              "      <td>1</td>\n",
              "      <td>0</td>\n",
              "      <td>0</td>\n",
              "      <td>0</td>\n",
              "      <td>1</td>\n",
              "      <td>0</td>\n",
              "      <td>0</td>\n",
              "      <td>1</td>\n",
              "      <td>0</td>\n",
              "      <td>0</td>\n",
              "      <td>0</td>\n",
              "      <td>1</td>\n",
              "      <td>0</td>\n",
              "      <td>0</td>\n",
              "      <td>0</td>\n",
              "      <td>1</td>\n",
              "      <td>0</td>\n",
              "      <td>0</td>\n",
              "      <td>0</td>\n",
              "      <td>0</td>\n",
              "      <td>0</td>\n",
              "      <td>0</td>\n",
              "      <td>53.31</td>\n",
              "      <td>10</td>\n",
              "      <td>2</td>\n",
              "      <td>0</td>\n",
              "    </tr>\n",
              "  </tbody>\n",
              "</table>\n",
              "</div>"
            ],
            "text/plain": [
              "   campaign_platform_Facebook Ads  ...  link_clicks\n",
              "0                               0  ...            0\n",
              "1                               0  ...            0\n",
              "2                               0  ...            0\n",
              "3                               0  ...            0\n",
              "4                               0  ...            0\n",
              "\n",
              "[5 rows x 36 columns]"
            ]
          },
          "metadata": {
            "tags": []
          },
          "execution_count": 13
        }
      ]
    },
    {
      "cell_type": "code",
      "metadata": {
        "id": "_D24GRcEeh5z",
        "colab_type": "code",
        "colab": {
          "base_uri": "https://localhost:8080/",
          "height": 34
        },
        "outputId": "2daf9fb7-e895-4116-ed62-41c5a4a8c736"
      },
      "source": [
        "print(result_df.shape)"
      ],
      "execution_count": 14,
      "outputs": [
        {
          "output_type": "stream",
          "text": [
            "(16834, 36)\n"
          ],
          "name": "stdout"
        }
      ]
    },
    {
      "cell_type": "code",
      "metadata": {
        "id": "2adqgwMcOXfK",
        "colab_type": "code",
        "colab": {}
      },
      "source": [
        "import numpy as np\n",
        "import pandas as pd\n",
        "from sklearn.model_selection import train_test_split\n",
        "from sklearn.metrics import r2_score,mean_squared_error\n",
        "import seaborn as sns\n",
        "import matplotlib.pyplot as plt"
      ],
      "execution_count": 15,
      "outputs": []
    },
    {
      "cell_type": "code",
      "metadata": {
        "id": "7VOrZ4cAOiTd",
        "colab_type": "code",
        "colab": {}
      },
      "source": [
        ""
      ],
      "execution_count": null,
      "outputs": []
    },
    {
      "cell_type": "code",
      "metadata": {
        "id": "teR7S4IVeh96",
        "colab_type": "code",
        "colab": {
          "base_uri": "https://localhost:8080/",
          "height": 68
        },
        "outputId": "ec05922b-fdc8-4e35-b258-a336e91a7c4a"
      },
      "source": [
        "X = result_df.iloc[:, :-1].values\n",
        "Y = result_df.iloc[:, -1].values\n",
        "\n",
        "print(X[-1])"
      ],
      "execution_count": 16,
      "outputs": [
        {
          "output_type": "stream",
          "text": [
            "[ 0.   1.   0.   1.   0.   1.   1.   0.   0.   0.   1.   0.   0.   0.\n",
            "  1.   0.   0.   1.   0.   0.   0.   0.   1.   0.   0.   0.   0.   0.\n",
            "  0.   0.   0.   1.   1.4 14.   1. ]\n"
          ],
          "name": "stdout"
        }
      ]
    },
    {
      "cell_type": "code",
      "metadata": {
        "id": "7hPWmcV7QddH",
        "colab_type": "code",
        "colab": {}
      },
      "source": [
        "# Fit and make the predictions by the model\n",
        "model = sm.OLS(Y, X).fit()\n",
        "predictions = model.predict(X)"
      ],
      "execution_count": 17,
      "outputs": []
    },
    {
      "cell_type": "code",
      "metadata": {
        "id": "HMdBGqgIGj1g",
        "colab_type": "code",
        "colab": {
          "base_uri": "https://localhost:8080/",
          "height": 1000
        },
        "outputId": "e14e264f-51a1-484e-cb21-c36821e3bb98"
      },
      "source": [
        "model.summary()"
      ],
      "execution_count": 18,
      "outputs": [
        {
          "output_type": "execute_result",
          "data": {
            "text/html": [
              "<table class=\"simpletable\">\n",
              "<caption>OLS Regression Results</caption>\n",
              "<tr>\n",
              "  <th>Dep. Variable:</th>            <td>y</td>        <th>  R-squared:         </th> <td>   0.957</td> \n",
              "</tr>\n",
              "<tr>\n",
              "  <th>Model:</th>                   <td>OLS</td>       <th>  Adj. R-squared:    </th> <td>   0.957</td> \n",
              "</tr>\n",
              "<tr>\n",
              "  <th>Method:</th>             <td>Least Squares</td>  <th>  F-statistic:       </th> <td>2.088e+04</td>\n",
              "</tr>\n",
              "<tr>\n",
              "  <th>Date:</th>             <td>Sat, 22 Aug 2020</td> <th>  Prob (F-statistic):</th>  <td>  0.00</td>  \n",
              "</tr>\n",
              "<tr>\n",
              "  <th>Time:</th>                 <td>15:15:21</td>     <th>  Log-Likelihood:    </th> <td> -46353.</td> \n",
              "</tr>\n",
              "<tr>\n",
              "  <th>No. Observations:</th>      <td> 16834</td>      <th>  AIC:               </th> <td>9.274e+04</td>\n",
              "</tr>\n",
              "<tr>\n",
              "  <th>Df Residuals:</th>          <td> 16815</td>      <th>  BIC:               </th> <td>9.289e+04</td>\n",
              "</tr>\n",
              "<tr>\n",
              "  <th>Df Model:</th>              <td>    18</td>      <th>                     </th>     <td> </td>    \n",
              "</tr>\n",
              "<tr>\n",
              "  <th>Covariance Type:</th>      <td>nonrobust</td>    <th>                     </th>     <td> </td>    \n",
              "</tr>\n",
              "</table>\n",
              "<table class=\"simpletable\">\n",
              "<tr>\n",
              "   <td></td>      <th>coef</th>     <th>std err</th>      <th>t</th>      <th>P>|t|</th>  <th>[0.025</th>    <th>0.975]</th>  \n",
              "</tr>\n",
              "<tr>\n",
              "  <th>x1</th>  <td>    0.3213</td> <td>    0.019</td> <td>   16.837</td> <td> 0.000</td> <td>    0.284</td> <td>    0.359</td>\n",
              "</tr>\n",
              "<tr>\n",
              "  <th>x2</th>  <td>   -0.0592</td> <td>    0.007</td> <td>   -9.062</td> <td> 0.000</td> <td>   -0.072</td> <td>   -0.046</td>\n",
              "</tr>\n",
              "<tr>\n",
              "  <th>x3</th>  <td>    0.3213</td> <td>    0.019</td> <td>   16.837</td> <td> 0.000</td> <td>    0.284</td> <td>    0.359</td>\n",
              "</tr>\n",
              "<tr>\n",
              "  <th>x4</th>  <td>   -0.0592</td> <td>    0.007</td> <td>   -9.062</td> <td> 0.000</td> <td>   -0.072</td> <td>   -0.046</td>\n",
              "</tr>\n",
              "<tr>\n",
              "  <th>x5</th>  <td>    0.3213</td> <td>    0.019</td> <td>   16.837</td> <td> 0.000</td> <td>    0.284</td> <td>    0.359</td>\n",
              "</tr>\n",
              "<tr>\n",
              "  <th>x6</th>  <td>   -0.0592</td> <td>    0.007</td> <td>   -9.062</td> <td> 0.000</td> <td>   -0.072</td> <td>   -0.046</td>\n",
              "</tr>\n",
              "<tr>\n",
              "  <th>x7</th>  <td>   -0.5573</td> <td>    0.042</td> <td>  -13.194</td> <td> 0.000</td> <td>   -0.640</td> <td>   -0.474</td>\n",
              "</tr>\n",
              "<tr>\n",
              "  <th>x8</th>  <td>    0.5480</td> <td>    0.055</td> <td>    9.885</td> <td> 0.000</td> <td>    0.439</td> <td>    0.657</td>\n",
              "</tr>\n",
              "<tr>\n",
              "  <th>x9</th>  <td>    0.3213</td> <td>    0.019</td> <td>   16.837</td> <td> 0.000</td> <td>    0.284</td> <td>    0.359</td>\n",
              "</tr>\n",
              "<tr>\n",
              "  <th>x10</th> <td>   -0.0500</td> <td>    0.048</td> <td>   -1.040</td> <td> 0.299</td> <td>   -0.144</td> <td>    0.044</td>\n",
              "</tr>\n",
              "<tr>\n",
              "  <th>x11</th> <td>   -0.0592</td> <td>    0.007</td> <td>   -9.062</td> <td> 0.000</td> <td>   -0.072</td> <td>   -0.046</td>\n",
              "</tr>\n",
              "<tr>\n",
              "  <th>x12</th> <td>    1.1739</td> <td>    0.140</td> <td>    8.399</td> <td> 0.000</td> <td>    0.900</td> <td>    1.448</td>\n",
              "</tr>\n",
              "<tr>\n",
              "  <th>x13</th> <td>    0.1719</td> <td>    0.139</td> <td>    1.240</td> <td> 0.215</td> <td>   -0.100</td> <td>    0.444</td>\n",
              "</tr>\n",
              "<tr>\n",
              "  <th>x14</th> <td>   -1.0245</td> <td>    0.204</td> <td>   -5.027</td> <td> 0.000</td> <td>   -1.424</td> <td>   -0.625</td>\n",
              "</tr>\n",
              "<tr>\n",
              "  <th>x15</th> <td>   -0.0592</td> <td>    0.007</td> <td>   -9.062</td> <td> 0.000</td> <td>   -0.072</td> <td>   -0.046</td>\n",
              "</tr>\n",
              "<tr>\n",
              "  <th>x16</th> <td>   -0.1297</td> <td>    0.058</td> <td>   -2.243</td> <td> 0.025</td> <td>   -0.243</td> <td>   -0.016</td>\n",
              "</tr>\n",
              "<tr>\n",
              "  <th>x17</th> <td>    0.4510</td> <td>    0.056</td> <td>    8.028</td> <td> 0.000</td> <td>    0.341</td> <td>    0.561</td>\n",
              "</tr>\n",
              "<tr>\n",
              "  <th>x18</th> <td>   -0.0592</td> <td>    0.007</td> <td>   -9.062</td> <td> 0.000</td> <td>   -0.072</td> <td>   -0.046</td>\n",
              "</tr>\n",
              "<tr>\n",
              "  <th>x19</th> <td>   -0.1297</td> <td>    0.058</td> <td>   -2.243</td> <td> 0.025</td> <td>   -0.243</td> <td>   -0.016</td>\n",
              "</tr>\n",
              "<tr>\n",
              "  <th>x20</th> <td>    2.4333</td> <td>    0.121</td> <td>   20.136</td> <td> 0.000</td> <td>    2.196</td> <td>    2.670</td>\n",
              "</tr>\n",
              "<tr>\n",
              "  <th>x21</th> <td>   -1.9823</td> <td>    0.123</td> <td>  -16.161</td> <td> 0.000</td> <td>   -2.223</td> <td>   -1.742</td>\n",
              "</tr>\n",
              "<tr>\n",
              "  <th>x22</th> <td>    0.2320</td> <td>    0.048</td> <td>    4.839</td> <td> 0.000</td> <td>    0.138</td> <td>    0.326</td>\n",
              "</tr>\n",
              "<tr>\n",
              "  <th>x23</th> <td>   -1.0453</td> <td>    0.049</td> <td>  -21.325</td> <td> 0.000</td> <td>   -1.141</td> <td>   -0.949</td>\n",
              "</tr>\n",
              "<tr>\n",
              "  <th>x24</th> <td>    0.7541</td> <td>    0.074</td> <td>   10.206</td> <td> 0.000</td> <td>    0.609</td> <td>    0.899</td>\n",
              "</tr>\n",
              "<tr>\n",
              "  <th>x25</th> <td>    0.3213</td> <td>    0.019</td> <td>   16.837</td> <td> 0.000</td> <td>    0.284</td> <td>    0.359</td>\n",
              "</tr>\n",
              "<tr>\n",
              "  <th>x26</th> <td>   -0.2978</td> <td>    0.073</td> <td>   -4.090</td> <td> 0.000</td> <td>   -0.441</td> <td>   -0.155</td>\n",
              "</tr>\n",
              "<tr>\n",
              "  <th>x27</th> <td>   -0.1458</td> <td>    0.069</td> <td>   -2.124</td> <td> 0.034</td> <td>   -0.280</td> <td>   -0.011</td>\n",
              "</tr>\n",
              "<tr>\n",
              "  <th>x28</th> <td>   -0.0129</td> <td>    0.067</td> <td>   -0.192</td> <td> 0.848</td> <td>   -0.145</td> <td>    0.119</td>\n",
              "</tr>\n",
              "<tr>\n",
              "  <th>x29</th> <td>    0.1768</td> <td>    0.072</td> <td>    2.458</td> <td> 0.014</td> <td>    0.036</td> <td>    0.318</td>\n",
              "</tr>\n",
              "<tr>\n",
              "  <th>x30</th> <td>    0.2534</td> <td>    0.084</td> <td>    3.008</td> <td> 0.003</td> <td>    0.088</td> <td>    0.418</td>\n",
              "</tr>\n",
              "<tr>\n",
              "  <th>x31</th> <td>    0.8845</td> <td>    0.089</td> <td>    9.946</td> <td> 0.000</td> <td>    0.710</td> <td>    1.059</td>\n",
              "</tr>\n",
              "<tr>\n",
              "  <th>x32</th> <td>   -0.5961</td> <td>    0.071</td> <td>   -8.356</td> <td> 0.000</td> <td>   -0.736</td> <td>   -0.456</td>\n",
              "</tr>\n",
              "<tr>\n",
              "  <th>x33</th> <td>   -0.0072</td> <td>    0.000</td> <td>  -61.262</td> <td> 0.000</td> <td>   -0.007</td> <td>   -0.007</td>\n",
              "</tr>\n",
              "<tr>\n",
              "  <th>x34</th> <td>    0.0048</td> <td> 3.23e-05</td> <td>  148.046</td> <td> 0.000</td> <td>    0.005</td> <td>    0.005</td>\n",
              "</tr>\n",
              "<tr>\n",
              "  <th>x35</th> <td>    0.1965</td> <td>    0.002</td> <td>   90.725</td> <td> 0.000</td> <td>    0.192</td> <td>    0.201</td>\n",
              "</tr>\n",
              "</table>\n",
              "<table class=\"simpletable\">\n",
              "<tr>\n",
              "  <th>Omnibus:</th>       <td>13798.026</td> <th>  Durbin-Watson:     </th>  <td>   1.431</td>  \n",
              "</tr>\n",
              "<tr>\n",
              "  <th>Prob(Omnibus):</th>  <td> 0.000</td>   <th>  Jarque-Bera (JB):  </th> <td>6127669.254</td>\n",
              "</tr>\n",
              "<tr>\n",
              "  <th>Skew:</th>           <td> 2.887</td>   <th>  Prob(JB):          </th>  <td>    0.00</td>  \n",
              "</tr>\n",
              "<tr>\n",
              "  <th>Kurtosis:</th>       <td>96.289</td>   <th>  Cond. No.          </th>  <td>1.38e+18</td>  \n",
              "</tr>\n",
              "</table><br/><br/>Warnings:<br/>[1] Standard Errors assume that the covariance matrix of the errors is correctly specified.<br/>[2] The smallest eigenvalue is 5.45e-26. This might indicate that there are<br/>strong multicollinearity problems or that the design matrix is singular."
            ],
            "text/plain": [
              "<class 'statsmodels.iolib.summary.Summary'>\n",
              "\"\"\"\n",
              "                            OLS Regression Results                            \n",
              "==============================================================================\n",
              "Dep. Variable:                      y   R-squared:                       0.957\n",
              "Model:                            OLS   Adj. R-squared:                  0.957\n",
              "Method:                 Least Squares   F-statistic:                 2.088e+04\n",
              "Date:                Sat, 22 Aug 2020   Prob (F-statistic):               0.00\n",
              "Time:                        15:15:21   Log-Likelihood:                -46353.\n",
              "No. Observations:               16834   AIC:                         9.274e+04\n",
              "Df Residuals:                   16815   BIC:                         9.289e+04\n",
              "Df Model:                          18                                         \n",
              "Covariance Type:            nonrobust                                         \n",
              "==============================================================================\n",
              "                 coef    std err          t      P>|t|      [0.025      0.975]\n",
              "------------------------------------------------------------------------------\n",
              "x1             0.3213      0.019     16.837      0.000       0.284       0.359\n",
              "x2            -0.0592      0.007     -9.062      0.000      -0.072      -0.046\n",
              "x3             0.3213      0.019     16.837      0.000       0.284       0.359\n",
              "x4            -0.0592      0.007     -9.062      0.000      -0.072      -0.046\n",
              "x5             0.3213      0.019     16.837      0.000       0.284       0.359\n",
              "x6            -0.0592      0.007     -9.062      0.000      -0.072      -0.046\n",
              "x7            -0.5573      0.042    -13.194      0.000      -0.640      -0.474\n",
              "x8             0.5480      0.055      9.885      0.000       0.439       0.657\n",
              "x9             0.3213      0.019     16.837      0.000       0.284       0.359\n",
              "x10           -0.0500      0.048     -1.040      0.299      -0.144       0.044\n",
              "x11           -0.0592      0.007     -9.062      0.000      -0.072      -0.046\n",
              "x12            1.1739      0.140      8.399      0.000       0.900       1.448\n",
              "x13            0.1719      0.139      1.240      0.215      -0.100       0.444\n",
              "x14           -1.0245      0.204     -5.027      0.000      -1.424      -0.625\n",
              "x15           -0.0592      0.007     -9.062      0.000      -0.072      -0.046\n",
              "x16           -0.1297      0.058     -2.243      0.025      -0.243      -0.016\n",
              "x17            0.4510      0.056      8.028      0.000       0.341       0.561\n",
              "x18           -0.0592      0.007     -9.062      0.000      -0.072      -0.046\n",
              "x19           -0.1297      0.058     -2.243      0.025      -0.243      -0.016\n",
              "x20            2.4333      0.121     20.136      0.000       2.196       2.670\n",
              "x21           -1.9823      0.123    -16.161      0.000      -2.223      -1.742\n",
              "x22            0.2320      0.048      4.839      0.000       0.138       0.326\n",
              "x23           -1.0453      0.049    -21.325      0.000      -1.141      -0.949\n",
              "x24            0.7541      0.074     10.206      0.000       0.609       0.899\n",
              "x25            0.3213      0.019     16.837      0.000       0.284       0.359\n",
              "x26           -0.2978      0.073     -4.090      0.000      -0.441      -0.155\n",
              "x27           -0.1458      0.069     -2.124      0.034      -0.280      -0.011\n",
              "x28           -0.0129      0.067     -0.192      0.848      -0.145       0.119\n",
              "x29            0.1768      0.072      2.458      0.014       0.036       0.318\n",
              "x30            0.2534      0.084      3.008      0.003       0.088       0.418\n",
              "x31            0.8845      0.089      9.946      0.000       0.710       1.059\n",
              "x32           -0.5961      0.071     -8.356      0.000      -0.736      -0.456\n",
              "x33           -0.0072      0.000    -61.262      0.000      -0.007      -0.007\n",
              "x34            0.0048   3.23e-05    148.046      0.000       0.005       0.005\n",
              "x35            0.1965      0.002     90.725      0.000       0.192       0.201\n",
              "==============================================================================\n",
              "Omnibus:                    13798.026   Durbin-Watson:                   1.431\n",
              "Prob(Omnibus):                  0.000   Jarque-Bera (JB):          6127669.254\n",
              "Skew:                           2.887   Prob(JB):                         0.00\n",
              "Kurtosis:                      96.289   Cond. No.                     1.38e+18\n",
              "==============================================================================\n",
              "\n",
              "Warnings:\n",
              "[1] Standard Errors assume that the covariance matrix of the errors is correctly specified.\n",
              "[2] The smallest eigenvalue is 5.45e-26. This might indicate that there are\n",
              "strong multicollinearity problems or that the design matrix is singular.\n",
              "\"\"\""
            ]
          },
          "metadata": {
            "tags": []
          },
          "execution_count": 18
        }
      ]
    },
    {
      "cell_type": "code",
      "metadata": {
        "id": "e-c5L_LcGj6v",
        "colab_type": "code",
        "colab": {
          "base_uri": "https://localhost:8080/",
          "height": 1000
        },
        "outputId": "8074afc2-33e4-4c98-b683-5e7bee2b30bb"
      },
      "source": [
        "X = sm.add_constant(X)\n",
        "\n",
        "model = sm.OLS(Y, X).fit()\n",
        "predictions = model.predict(X)\n",
        "\n",
        "model.summary()"
      ],
      "execution_count": 19,
      "outputs": [
        {
          "output_type": "execute_result",
          "data": {
            "text/html": [
              "<table class=\"simpletable\">\n",
              "<caption>OLS Regression Results</caption>\n",
              "<tr>\n",
              "  <th>Dep. Variable:</th>            <td>y</td>        <th>  R-squared:         </th> <td>   0.957</td> \n",
              "</tr>\n",
              "<tr>\n",
              "  <th>Model:</th>                   <td>OLS</td>       <th>  Adj. R-squared:    </th> <td>   0.957</td> \n",
              "</tr>\n",
              "<tr>\n",
              "  <th>Method:</th>             <td>Least Squares</td>  <th>  F-statistic:       </th> <td>2.088e+04</td>\n",
              "</tr>\n",
              "<tr>\n",
              "  <th>Date:</th>             <td>Sat, 22 Aug 2020</td> <th>  Prob (F-statistic):</th>  <td>  0.00</td>  \n",
              "</tr>\n",
              "<tr>\n",
              "  <th>Time:</th>                 <td>15:15:23</td>     <th>  Log-Likelihood:    </th> <td> -46353.</td> \n",
              "</tr>\n",
              "<tr>\n",
              "  <th>No. Observations:</th>      <td> 16834</td>      <th>  AIC:               </th> <td>9.274e+04</td>\n",
              "</tr>\n",
              "<tr>\n",
              "  <th>Df Residuals:</th>          <td> 16815</td>      <th>  BIC:               </th> <td>9.289e+04</td>\n",
              "</tr>\n",
              "<tr>\n",
              "  <th>Df Model:</th>              <td>    18</td>      <th>                     </th>     <td> </td>    \n",
              "</tr>\n",
              "<tr>\n",
              "  <th>Covariance Type:</th>      <td>nonrobust</td>    <th>                     </th>     <td> </td>    \n",
              "</tr>\n",
              "</table>\n",
              "<table class=\"simpletable\">\n",
              "<tr>\n",
              "    <td></td>       <th>coef</th>     <th>std err</th>      <th>t</th>      <th>P>|t|</th>  <th>[0.025</th>    <th>0.975]</th>  \n",
              "</tr>\n",
              "<tr>\n",
              "  <th>const</th> <td>    0.2019</td> <td>    0.015</td> <td>   13.261</td> <td> 0.000</td> <td>    0.172</td> <td>    0.232</td>\n",
              "</tr>\n",
              "<tr>\n",
              "  <th>x1</th>    <td>    0.2901</td> <td>    0.017</td> <td>   17.187</td> <td> 0.000</td> <td>    0.257</td> <td>    0.323</td>\n",
              "</tr>\n",
              "<tr>\n",
              "  <th>x2</th>    <td>   -0.0882</td> <td>    0.006</td> <td>  -13.984</td> <td> 0.000</td> <td>   -0.101</td> <td>   -0.076</td>\n",
              "</tr>\n",
              "<tr>\n",
              "  <th>x3</th>    <td>    0.2901</td> <td>    0.017</td> <td>   17.187</td> <td> 0.000</td> <td>    0.257</td> <td>    0.323</td>\n",
              "</tr>\n",
              "<tr>\n",
              "  <th>x4</th>    <td>   -0.0882</td> <td>    0.006</td> <td>  -13.984</td> <td> 0.000</td> <td>   -0.101</td> <td>   -0.076</td>\n",
              "</tr>\n",
              "<tr>\n",
              "  <th>x5</th>    <td>    0.2901</td> <td>    0.017</td> <td>   17.187</td> <td> 0.000</td> <td>    0.257</td> <td>    0.323</td>\n",
              "</tr>\n",
              "<tr>\n",
              "  <th>x6</th>    <td>   -0.0882</td> <td>    0.006</td> <td>  -13.984</td> <td> 0.000</td> <td>   -0.101</td> <td>   -0.076</td>\n",
              "</tr>\n",
              "<tr>\n",
              "  <th>x7</th>    <td>   -0.5669</td> <td>    0.042</td> <td>  -13.405</td> <td> 0.000</td> <td>   -0.650</td> <td>   -0.484</td>\n",
              "</tr>\n",
              "<tr>\n",
              "  <th>x8</th>    <td>    0.5384</td> <td>    0.055</td> <td>    9.723</td> <td> 0.000</td> <td>    0.430</td> <td>    0.647</td>\n",
              "</tr>\n",
              "<tr>\n",
              "  <th>x9</th>    <td>    0.2901</td> <td>    0.017</td> <td>   17.187</td> <td> 0.000</td> <td>    0.257</td> <td>    0.323</td>\n",
              "</tr>\n",
              "<tr>\n",
              "  <th>x10</th>   <td>   -0.0596</td> <td>    0.048</td> <td>   -1.240</td> <td> 0.215</td> <td>   -0.154</td> <td>    0.035</td>\n",
              "</tr>\n",
              "<tr>\n",
              "  <th>x11</th>   <td>   -0.0882</td> <td>    0.006</td> <td>  -13.984</td> <td> 0.000</td> <td>   -0.101</td> <td>   -0.076</td>\n",
              "</tr>\n",
              "<tr>\n",
              "  <th>x12</th>   <td>    1.1635</td> <td>    0.140</td> <td>    8.309</td> <td> 0.000</td> <td>    0.889</td> <td>    1.438</td>\n",
              "</tr>\n",
              "<tr>\n",
              "  <th>x13</th>   <td>    0.1615</td> <td>    0.139</td> <td>    1.163</td> <td> 0.245</td> <td>   -0.111</td> <td>    0.434</td>\n",
              "</tr>\n",
              "<tr>\n",
              "  <th>x14</th>   <td>   -1.0349</td> <td>    0.203</td> <td>   -5.088</td> <td> 0.000</td> <td>   -1.434</td> <td>   -0.636</td>\n",
              "</tr>\n",
              "<tr>\n",
              "  <th>x15</th>   <td>   -0.0882</td> <td>    0.006</td> <td>  -13.984</td> <td> 0.000</td> <td>   -0.101</td> <td>   -0.076</td>\n",
              "</tr>\n",
              "<tr>\n",
              "  <th>x16</th>   <td>   -0.1431</td> <td>    0.058</td> <td>   -2.484</td> <td> 0.013</td> <td>   -0.256</td> <td>   -0.030</td>\n",
              "</tr>\n",
              "<tr>\n",
              "  <th>x17</th>   <td>    0.4332</td> <td>    0.056</td> <td>    7.723</td> <td> 0.000</td> <td>    0.323</td> <td>    0.543</td>\n",
              "</tr>\n",
              "<tr>\n",
              "  <th>x18</th>   <td>   -0.0882</td> <td>    0.006</td> <td>  -13.984</td> <td> 0.000</td> <td>   -0.101</td> <td>   -0.076</td>\n",
              "</tr>\n",
              "<tr>\n",
              "  <th>x19</th>   <td>   -0.1431</td> <td>    0.058</td> <td>   -2.484</td> <td> 0.013</td> <td>   -0.256</td> <td>   -0.030</td>\n",
              "</tr>\n",
              "<tr>\n",
              "  <th>x20</th>   <td>    2.4244</td> <td>    0.121</td> <td>   20.063</td> <td> 0.000</td> <td>    2.188</td> <td>    2.661</td>\n",
              "</tr>\n",
              "<tr>\n",
              "  <th>x21</th>   <td>   -1.9912</td> <td>    0.123</td> <td>  -16.235</td> <td> 0.000</td> <td>   -2.232</td> <td>   -1.751</td>\n",
              "</tr>\n",
              "<tr>\n",
              "  <th>x22</th>   <td>    0.2224</td> <td>    0.048</td> <td>    4.629</td> <td> 0.000</td> <td>    0.128</td> <td>    0.317</td>\n",
              "</tr>\n",
              "<tr>\n",
              "  <th>x23</th>   <td>   -1.0549</td> <td>    0.049</td> <td>  -21.482</td> <td> 0.000</td> <td>   -1.151</td> <td>   -0.959</td>\n",
              "</tr>\n",
              "<tr>\n",
              "  <th>x24</th>   <td>    0.7444</td> <td>    0.074</td> <td>   10.093</td> <td> 0.000</td> <td>    0.600</td> <td>    0.889</td>\n",
              "</tr>\n",
              "<tr>\n",
              "  <th>x25</th>   <td>    0.2901</td> <td>    0.017</td> <td>   17.187</td> <td> 0.000</td> <td>    0.257</td> <td>    0.323</td>\n",
              "</tr>\n",
              "<tr>\n",
              "  <th>x26</th>   <td>   -0.3064</td> <td>    0.073</td> <td>   -4.212</td> <td> 0.000</td> <td>   -0.449</td> <td>   -0.164</td>\n",
              "</tr>\n",
              "<tr>\n",
              "  <th>x27</th>   <td>   -0.1544</td> <td>    0.069</td> <td>   -2.248</td> <td> 0.025</td> <td>   -0.289</td> <td>   -0.020</td>\n",
              "</tr>\n",
              "<tr>\n",
              "  <th>x28</th>   <td>   -0.0215</td> <td>    0.067</td> <td>   -0.319</td> <td> 0.750</td> <td>   -0.154</td> <td>    0.111</td>\n",
              "</tr>\n",
              "<tr>\n",
              "  <th>x29</th>   <td>    0.1682</td> <td>    0.072</td> <td>    2.337</td> <td> 0.019</td> <td>    0.027</td> <td>    0.309</td>\n",
              "</tr>\n",
              "<tr>\n",
              "  <th>x30</th>   <td>    0.2448</td> <td>    0.084</td> <td>    2.907</td> <td> 0.004</td> <td>    0.080</td> <td>    0.410</td>\n",
              "</tr>\n",
              "<tr>\n",
              "  <th>x31</th>   <td>    0.8759</td> <td>    0.089</td> <td>    9.862</td> <td> 0.000</td> <td>    0.702</td> <td>    1.050</td>\n",
              "</tr>\n",
              "<tr>\n",
              "  <th>x32</th>   <td>   -0.6047</td> <td>    0.071</td> <td>   -8.484</td> <td> 0.000</td> <td>   -0.744</td> <td>   -0.465</td>\n",
              "</tr>\n",
              "<tr>\n",
              "  <th>x33</th>   <td>   -0.0072</td> <td>    0.000</td> <td>  -61.262</td> <td> 0.000</td> <td>   -0.007</td> <td>   -0.007</td>\n",
              "</tr>\n",
              "<tr>\n",
              "  <th>x34</th>   <td>    0.0048</td> <td> 3.23e-05</td> <td>  148.046</td> <td> 0.000</td> <td>    0.005</td> <td>    0.005</td>\n",
              "</tr>\n",
              "<tr>\n",
              "  <th>x35</th>   <td>    0.1965</td> <td>    0.002</td> <td>   90.725</td> <td> 0.000</td> <td>    0.192</td> <td>    0.201</td>\n",
              "</tr>\n",
              "</table>\n",
              "<table class=\"simpletable\">\n",
              "<tr>\n",
              "  <th>Omnibus:</th>       <td>13798.026</td> <th>  Durbin-Watson:     </th>  <td>   1.431</td>  \n",
              "</tr>\n",
              "<tr>\n",
              "  <th>Prob(Omnibus):</th>  <td> 0.000</td>   <th>  Jarque-Bera (JB):  </th> <td>6127669.254</td>\n",
              "</tr>\n",
              "<tr>\n",
              "  <th>Skew:</th>           <td> 2.887</td>   <th>  Prob(JB):          </th>  <td>    0.00</td>  \n",
              "</tr>\n",
              "<tr>\n",
              "  <th>Kurtosis:</th>       <td>96.289</td>   <th>  Cond. No.          </th>  <td>4.96e+17</td>  \n",
              "</tr>\n",
              "</table><br/><br/>Warnings:<br/>[1] Standard Errors assume that the covariance matrix of the errors is correctly specified.<br/>[2] The smallest eigenvalue is 4.25e-25. This might indicate that there are<br/>strong multicollinearity problems or that the design matrix is singular."
            ],
            "text/plain": [
              "<class 'statsmodels.iolib.summary.Summary'>\n",
              "\"\"\"\n",
              "                            OLS Regression Results                            \n",
              "==============================================================================\n",
              "Dep. Variable:                      y   R-squared:                       0.957\n",
              "Model:                            OLS   Adj. R-squared:                  0.957\n",
              "Method:                 Least Squares   F-statistic:                 2.088e+04\n",
              "Date:                Sat, 22 Aug 2020   Prob (F-statistic):               0.00\n",
              "Time:                        15:15:23   Log-Likelihood:                -46353.\n",
              "No. Observations:               16834   AIC:                         9.274e+04\n",
              "Df Residuals:                   16815   BIC:                         9.289e+04\n",
              "Df Model:                          18                                         \n",
              "Covariance Type:            nonrobust                                         \n",
              "==============================================================================\n",
              "                 coef    std err          t      P>|t|      [0.025      0.975]\n",
              "------------------------------------------------------------------------------\n",
              "const          0.2019      0.015     13.261      0.000       0.172       0.232\n",
              "x1             0.2901      0.017     17.187      0.000       0.257       0.323\n",
              "x2            -0.0882      0.006    -13.984      0.000      -0.101      -0.076\n",
              "x3             0.2901      0.017     17.187      0.000       0.257       0.323\n",
              "x4            -0.0882      0.006    -13.984      0.000      -0.101      -0.076\n",
              "x5             0.2901      0.017     17.187      0.000       0.257       0.323\n",
              "x6            -0.0882      0.006    -13.984      0.000      -0.101      -0.076\n",
              "x7            -0.5669      0.042    -13.405      0.000      -0.650      -0.484\n",
              "x8             0.5384      0.055      9.723      0.000       0.430       0.647\n",
              "x9             0.2901      0.017     17.187      0.000       0.257       0.323\n",
              "x10           -0.0596      0.048     -1.240      0.215      -0.154       0.035\n",
              "x11           -0.0882      0.006    -13.984      0.000      -0.101      -0.076\n",
              "x12            1.1635      0.140      8.309      0.000       0.889       1.438\n",
              "x13            0.1615      0.139      1.163      0.245      -0.111       0.434\n",
              "x14           -1.0349      0.203     -5.088      0.000      -1.434      -0.636\n",
              "x15           -0.0882      0.006    -13.984      0.000      -0.101      -0.076\n",
              "x16           -0.1431      0.058     -2.484      0.013      -0.256      -0.030\n",
              "x17            0.4332      0.056      7.723      0.000       0.323       0.543\n",
              "x18           -0.0882      0.006    -13.984      0.000      -0.101      -0.076\n",
              "x19           -0.1431      0.058     -2.484      0.013      -0.256      -0.030\n",
              "x20            2.4244      0.121     20.063      0.000       2.188       2.661\n",
              "x21           -1.9912      0.123    -16.235      0.000      -2.232      -1.751\n",
              "x22            0.2224      0.048      4.629      0.000       0.128       0.317\n",
              "x23           -1.0549      0.049    -21.482      0.000      -1.151      -0.959\n",
              "x24            0.7444      0.074     10.093      0.000       0.600       0.889\n",
              "x25            0.2901      0.017     17.187      0.000       0.257       0.323\n",
              "x26           -0.3064      0.073     -4.212      0.000      -0.449      -0.164\n",
              "x27           -0.1544      0.069     -2.248      0.025      -0.289      -0.020\n",
              "x28           -0.0215      0.067     -0.319      0.750      -0.154       0.111\n",
              "x29            0.1682      0.072      2.337      0.019       0.027       0.309\n",
              "x30            0.2448      0.084      2.907      0.004       0.080       0.410\n",
              "x31            0.8759      0.089      9.862      0.000       0.702       1.050\n",
              "x32           -0.6047      0.071     -8.484      0.000      -0.744      -0.465\n",
              "x33           -0.0072      0.000    -61.262      0.000      -0.007      -0.007\n",
              "x34            0.0048   3.23e-05    148.046      0.000       0.005       0.005\n",
              "x35            0.1965      0.002     90.725      0.000       0.192       0.201\n",
              "==============================================================================\n",
              "Omnibus:                    13798.026   Durbin-Watson:                   1.431\n",
              "Prob(Omnibus):                  0.000   Jarque-Bera (JB):          6127669.254\n",
              "Skew:                           2.887   Prob(JB):                         0.00\n",
              "Kurtosis:                      96.289   Cond. No.                     4.96e+17\n",
              "==============================================================================\n",
              "\n",
              "Warnings:\n",
              "[1] Standard Errors assume that the covariance matrix of the errors is correctly specified.\n",
              "[2] The smallest eigenvalue is 4.25e-25. This might indicate that there are\n",
              "strong multicollinearity problems or that the design matrix is singular.\n",
              "\"\"\""
            ]
          },
          "metadata": {
            "tags": []
          },
          "execution_count": 19
        }
      ]
    },
    {
      "cell_type": "code",
      "metadata": {
        "id": "8h8xlk_BGkBe",
        "colab_type": "code",
        "colab": {}
      },
      "source": [
        "from sklearn.model_selection import train_test_split\n",
        "X_train, X_test, y_train, y_test = train_test_split(X, Y, test_size = 0.2, random_state = 0)"
      ],
      "execution_count": 23,
      "outputs": []
    },
    {
      "cell_type": "code",
      "metadata": {
        "id": "AYIXCJ4tGkEs",
        "colab_type": "code",
        "colab": {
          "base_uri": "https://localhost:8080/",
          "height": 34
        },
        "outputId": "bb9bd006-5ceb-4b88-a3f4-98d386feb62b"
      },
      "source": [
        "from sklearn.linear_model import LinearRegression\n",
        "regressor = LinearRegression()\n",
        "regressor.fit(X_train, y_train)"
      ],
      "execution_count": 24,
      "outputs": [
        {
          "output_type": "execute_result",
          "data": {
            "text/plain": [
              "LinearRegression(copy_X=True, fit_intercept=True, n_jobs=None, normalize=False)"
            ]
          },
          "metadata": {
            "tags": []
          },
          "execution_count": 24
        }
      ]
    },
    {
      "cell_type": "code",
      "metadata": {
        "id": "QKb9uy4KGkH2",
        "colab_type": "code",
        "colab": {
          "base_uri": "https://localhost:8080/",
          "height": 136
        },
        "outputId": "ce7dd25f-565c-414b-c3c9-7147c640f627"
      },
      "source": [
        "y_pred = regressor.predict(X_test)\n",
        "np.set_printoptions(precision=2)\n",
        "print(np.concatenate((y_pred.reshape(len(y_pred),1), y_test.reshape(len(y_test),1)),1))"
      ],
      "execution_count": 25,
      "outputs": [
        {
          "output_type": "stream",
          "text": [
            "[[-2.33  0.  ]\n",
            " [-0.09  0.  ]\n",
            " [ 8.61  0.  ]\n",
            " ...\n",
            " [-0.09  0.  ]\n",
            " [-1.04  0.  ]\n",
            " [-0.86  0.  ]]\n"
          ],
          "name": "stdout"
        }
      ]
    },
    {
      "cell_type": "code",
      "metadata": {
        "id": "nvBm1GncGkOD",
        "colab_type": "code",
        "colab": {
          "base_uri": "https://localhost:8080/",
          "height": 34
        },
        "outputId": "c70e328f-18b1-42ce-aca3-8fbcfbb8f85c"
      },
      "source": [
        "regressor.score(X,Y)"
      ],
      "execution_count": 26,
      "outputs": [
        {
          "output_type": "execute_result",
          "data": {
            "text/plain": [
              "0.9571219715709328"
            ]
          },
          "metadata": {
            "tags": []
          },
          "execution_count": 26
        }
      ]
    },
    {
      "cell_type": "code",
      "metadata": {
        "id": "n06RlQI0GkME",
        "colab_type": "code",
        "colab": {
          "base_uri": "https://localhost:8080/",
          "height": 119
        },
        "outputId": "0fe958b8-b055-46de-8346-5fc808aa2664"
      },
      "source": [
        "regressor.coef_"
      ],
      "execution_count": 27,
      "outputs": [
        {
          "output_type": "execute_result",
          "data": {
            "text/plain": [
              "array([-1.10e-14,  1.92e-01, -1.92e-01,  1.92e-01, -1.92e-01,  1.92e-01,\n",
              "       -1.92e-01, -6.03e-01,  4.96e-01,  1.92e-01, -8.52e-02, -1.92e-01,\n",
              "        9.06e-01,  2.99e-01, -1.01e+00, -1.92e-01, -1.38e-01,  3.30e-01,\n",
              "       -1.92e-01, -1.38e-01,  2.41e+00, -2.08e+00,  1.88e-01, -1.06e+00,\n",
              "        6.77e-01,  1.92e-01, -3.06e-01, -8.87e-02, -6.86e-02,  1.12e-01,\n",
              "        1.78e-01,  8.13e-01, -6.39e-01, -7.21e-03,  4.86e-03,  1.91e-01])"
            ]
          },
          "metadata": {
            "tags": []
          },
          "execution_count": 27
        }
      ]
    }
  ]
}